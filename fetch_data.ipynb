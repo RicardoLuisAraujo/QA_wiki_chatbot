{
 "cells": [
  {
   "cell_type": "code",
   "execution_count": 94,
   "metadata": {},
   "outputs": [],
   "source": [
    "import requests\n",
    "from bs4 import BeautifulSoup\n",
    "import pandas as pd"
   ]
  },
  {
   "cell_type": "code",
   "execution_count": 95,
   "metadata": {},
   "outputs": [],
   "source": [
    "chapters_list_link = \"https://dragonball.fandom.com/wiki/List_of_Dragon_Ball_manga_chapters\"\n",
    "r = requests.get(chapters_list_link)\n",
    "html = r.text\n",
    "soup = BeautifulSoup(html, \"html.parser\")"
   ]
  },
  {
   "cell_type": "code",
   "execution_count": 96,
   "metadata": {},
   "outputs": [],
   "source": [
    "chapters_links = []\n",
    "\n",
    "for td in soup.find_all('td'):\n",
    "    for li in td.find_all('li'):\n",
    "        for a in li.find_all('a'):\n",
    "            chapters_links.append(a.get('href'))"
   ]
  },
  {
   "cell_type": "code",
   "execution_count": 97,
   "metadata": {},
   "outputs": [
    {
     "data": {
      "text/plain": [
       "520"
      ]
     },
     "execution_count": 97,
     "metadata": {},
     "output_type": "execute_result"
    }
   ],
   "source": [
    "len(chapters_links) "
   ]
  },
  {
   "cell_type": "code",
   "execution_count": 98,
   "metadata": {},
   "outputs": [
    {
     "data": {
      "text/plain": [
       "'/wiki/Bloomers_and_the_Monkey_King'"
      ]
     },
     "execution_count": 98,
     "metadata": {},
     "output_type": "execute_result"
    }
   ],
   "source": [
    "chapters_links[0]"
   ]
  },
  {
   "cell_type": "code",
   "execution_count": 99,
   "metadata": {},
   "outputs": [],
   "source": [
    "link = \"https://dragonball.fandom.com/\" + chapters_links[0]\n",
    "r = requests.get(link)\n",
    "html = r.text\n",
    "soup = BeautifulSoup(html, \"html.parser\")"
   ]
  },
  {
   "cell_type": "code",
   "execution_count": 100,
   "metadata": {},
   "outputs": [
    {
     "name": "stdout",
     "output_type": "stream",
     "text": [
      "Bloomers and the Monkey King\n",
      "1\n"
     ]
    }
   ],
   "source": [
    "# title of the chapter\n",
    "print(soup.find('aside').find('h2').text)\n",
    "print(soup.find('aside').find('div', attrs={\"data-source\" : \"chapter\"}).find('div').text)"
   ]
  },
  {
   "cell_type": "code",
   "execution_count": 101,
   "metadata": {},
   "outputs": [],
   "source": [
    "chapters_data = []\n",
    "\n",
    "# for each link of a chapter\n",
    "for chapter_link in chapters_links:\n",
    "\n",
    "    chapter_info = {}\n",
    "\n",
    "    # get all info of chapter page\n",
    "    link = \"https://dragonball.fandom.com/\" + chapter_link\n",
    "    r = requests.get(link)\n",
    "    html = r.text\n",
    "    soup = BeautifulSoup(html, \"html.parser\")\n",
    "\n",
    "    # get title and number of the chapter\n",
    "    chapter_info['title'] = soup.find('aside').find('h2').text\n",
    "    chapter_info['chapter_number'] = soup.find('aside').find('div', attrs={\"data-source\" : \"chapter\"}).find('div').text\n",
    "\n",
    "    # get text from page\n",
    "    if 'Mature Content Warning' in soup.find_all('p')[0].text:\n",
    "        list_of_inner_text = [paragraph.text for paragraph in soup.find_all('p')[2:]]\n",
    "    else:\n",
    "        list_of_inner_text = [paragraph.text for paragraph in soup.find_all('p')[1:]]\n",
    "\n",
    "    # add all the text from the page as the summary of the chapter\n",
    "    chapter_info['summary'] = ' '.join(list_of_inner_text)\n",
    "\n",
    "    chapters_data.append(chapter_info)"
   ]
  },
  {
   "cell_type": "code",
   "execution_count": 102,
   "metadata": {},
   "outputs": [],
   "source": [
    "link = \"https://dragonball.fandom.com/\" + chapters_links[13]\n",
    "r = requests.get(link)\n",
    "html = r.text\n",
    "soup = BeautifulSoup(html, \"html.parser\")\n",
    "\n",
    "#soup.find_all('p')[1]"
   ]
  },
  {
   "cell_type": "code",
   "execution_count": 103,
   "metadata": {},
   "outputs": [
    {
     "name": "stdout",
     "output_type": "stream",
     "text": [
      "The cover features Goku riding with Bulma while she is driving the Capsule #9 Motorcycle through a forest. The cover art for this chapter is also featured in the Akira Toriyama - The World artbooks and Daizenshuu 1.\n",
      " Goku in the woods A young boy by the name Goku is seen rolling a tree stump down to his house while waving to some monkeys. When he gets home Goku throws the tree stump in the air to break it into firewood. After chopping wood he greets his grandfather's artifact and heads off through the woods, hunting for his next meal. While looking through the woods he decides to jump down a cliff to hunt for a Giant Fish which he catches by skinny dipping and luring it with his tail and then kills by kicking it.\n",
      " On his way back home, he is suddenly hit by the car of a girl named Bulma. Goku first thinks Bulma and her car to be monsters and ends up destroying the car. Bulma gets angry and starts shooting at him with a gun but after finding that it is not effective she quickly surrenders and reveals to Goku that she is a human girl from the city. Goku, having never seen a girl before, curiously examines her and invites her to his house for lunch.\n",
      " Goku and Bulma's first meeting Upon arriving at his house, Bulma realizes that Goku is in possession of a Dragon Ball, gets excited, and grabs it. Goku quickly takes it away from her and tells her that it was a keepsake from his deceased grandfather. She explains that the Dragon Balls can summon a dragon that grants wishes when all seven are gathered and she has already collected two of them. Bulma tries to convince Goku to give her his Dragon Ball by lifting her skirt up revealing her panties to let him touch her bottom but Goku rejects the offer. Reluctant to give up his only heirloom, Goku says that he will accompany Bulma and that she can use his ball at the end.\n",
      " Goku defeating the Pterodactyl Just before the two set off on their quest, Bulma explains to Goku that they will be able to find the Dragon Balls using a device called the Dragon Radar. Next, Bulma takes out her capsule case and uses Capsule #9 which is a Motorcycle. While heading off on the motorcycle, Bulma eventually drives the motorcycle off a steep hill and luckily lands safely— but not before frightening her and causing her to need to stop to use the bathroom.\n",
      " Before she can go, she is kidnapped by a large pterodactyl. Alerted by Bulma's screams, Goku decides to investigate and finds Bulma in the pterodactyl's grasp. The pterodactyl claims to be a friend of Bulma, which Goku believes, allowing the pterodactyl to tie Goku to a tree while he says he needs to talk with Bulma. As the pterodactyl flies off with her, Bulma yells for Goku to help him. Goku easily unties the rope using his tail and goes after them. Goku uses Bulma's Capsule Bike to get some air, before using his Power Pole to knock-out the beast mid-flight and saves Bulma before she hits the ground by throwing the pole through her sleeves, pinning her to the side of a cliff. As the chapter ends, Goku lands safely as well, only to discover a scared & humiliated, Bulma crying as she pees her pants.\n",
      " The Four-Star Dragon Ball Goku picking up the broken pieces of wood\n"
     ]
    }
   ],
   "source": [
    "print(chapters_data[0]['summary'])"
   ]
  },
  {
   "cell_type": "code",
   "execution_count": 104,
   "metadata": {},
   "outputs": [
    {
     "data": {
      "text/plain": [
       "{'title': 'No Balls!',\n",
       " 'chapter_number': '2',\n",
       " 'summary': 'The cover features Bulma inside of flying vehicle piloting it. Goku is seen wearing goggles on his head and riding the Flying Nimbus despite him not having it in the story yet.\\n Bulma\\'s Capsule House After Bulma and Goku cross a bridge on a motorcycle, Bulma declares that they should call it a night and uses one of her capsules to make a Capsule House appear so they do not have to sleep outside. Inside, Goku is overwhelmed by the modern technology of lights and television. Bulma ends up smelling Goku and tells him he must\\xa0take a bath, but Goku does not know what one is.\\n Since Goku does not know what a bath is, Bulma must\\xa0give him one. While washing Goku, she discovers that his tail is real and that it can move by itself. When Bulma finds out, she begins to assume that all males had tails since it is the first time she sees a boy naked. After being freaked out by Goku\\'s tail, Bulma decides to calm herself down by having a bubble bath. While relaxing in a bath of her own, Goku ends up ruining it by barging in and making comments about how her breasts look like a butt.\\n Bulma finding out that Goku\\'s tail is real At dinner time, Goku shows a dislike for civilized foods, such as bread, so he goes out and catches a wolf and centipede for supper, which ends up disgusting Bulma. When it comes time to get ready to bed, Goku plans on sleeping in bed with Bulma, but she makes a bed for him on the floor. While Bulma is brushing her teeth, she asks him what happened to his parents which Goku replies that he does not know but he thinks they abandoned him in the forest and his grandpa found him and kept him. When Bulma explains that she is on her quest because of Summer vacation, Goku ends up not listening and falls asleep.\\n Goku finding out that girls do not have balls Later on, after the two have gone to sleep, Goku wakes up and goes over to a sleeping Bulma in her underwear and discovers Bulma\\'s \"pillow\". Goku proceeds to lie between Bulma\\'s legs and discovers that she lacks male genitalia and is shocked because he does not know the difference between men and women. His surprise wakes Bulma, and Goku shudders \"you\\'ve lost your balls!\" Bulma, thinking Goku was talking about the Dragon Balls, rushes over to them to find that they are all intact. Afterwards, a dark shadow of a Turtle is shown approaching the house.\\n The Owl eating a mouse'}"
      ]
     },
     "execution_count": 104,
     "metadata": {},
     "output_type": "execute_result"
    }
   ],
   "source": [
    "chapters_data[1]"
   ]
  },
  {
   "cell_type": "code",
   "execution_count": 105,
   "metadata": {},
   "outputs": [
    {
     "data": {
      "text/plain": [
       "{'title': 'Kame Kame Kame Kame Kame Chameleon',\n",
       " 'chapter_number': '14',\n",
       " 'summary': '\\n\\nKame Kame Kame Kame Kame Chameleon\\n\\n\\n\\n\\n\\n\\t\\t\\t\\t\\t\\t\\tFull Color\\n\\t\\t\\t\\t\\t\\t\\t\\n\\t\\t\\t\\t\\t\\t\\n\\n\\n\\n\\t\\t\\t\\t\\t\\t\\tKanzenban\\n\\t\\t\\t\\t\\t\\t\\t\\n\\t\\t\\t\\t\\t\\t\\n\\n\\n\\n\\t\\t\\t\\t\\t\\t\\tTankōban\\n\\t\\t\\t\\t\\t\\t\\t\\n\\t\\t\\t\\t\\t\\t\\n\\n\\n\\n\\t\\t\\t\\t\\t\\t\\tViz\\n\\t\\t\\t\\t\\t\\t\\t\\n\\t\\t\\t\\t\\t\\t\\n\\n\\n\\n\\n\\n\\n\\n\\n\\n\\n\\n\\n\\n\\n\\n\\n\\n\\n\\n\\n\\n\\n\\n\\n\\n\\n\\n\\n\\n\\n\\n\\n\\nChapter Details\\n\\nChapter #\\n14\\n\\n\\nVolume\\n2\\n\\n\\nKanji title\\n亀仙人のかめはめ波！！\\n\\n\\nRōmaji title\\nKame-Sen\\'nin no Kamehameha!!\\n\\n\\nTranslated title\\nKame-Sen’nin’s Kamehameha!!\\n\\n\\nRelease date\\nMarch 5, 1985\\n\\n\\nEnglish release\\nMarch 2003\\n\\n\\nSaga\\nEmperor Pilaf Saga\\n\\n\\nEpisode counterpart\\n8\\n\\n\\n\\nChapter Chronology\\n\\nPrevious\\nFanning the Flame\\n\\n\\nNext\\nAt Sixes and Sevens\\n\\n\\n\\n\"Kame Kame Kame Kame Kame Chameleon\" (亀仙人のかめはめ波！！, Kame-Sen\\'nin no Kamehameha!!, lit. \"Kame-Sen’nin’s Kamehameha!!\") is the fourteenth chapter of the Dragon Ball manga.\\n The cover features Bulma with a Shotgun on her back and Oolong riding on a Pterodactyl following Goku who is on the Flying Nimbus.\\n Roshi fires his MAX Power Kamehameha After arriving at Fire Mountain, Master Roshi decides to put out the flames himself but first lectures the Ox-King of his misdoings of killing people over treasure at which the Ox-King bows down and apologizes, promising to change his ways. Just before getting ready to put the flames out he brings Goku and Bulma to the side and discusses the deal that in exchange for putting the fire out, Bulma must allow him to touch her breasts, which Bulma unhappily agrees to.\\n Roshi prepares to destroy the flames by removing his shirt and Turtle Shell revealing what looks to be an old weak upper body. While he is comically trying to climb a wall to stand on, he receives help from Goku. While standing on top of the wall Roshi prepares for his attack which instantly turns him into a muscular giant and shoots his signature attack, the Kamehameha straight at the flaming mountain. After the attack is finished, everyone is amazed but it is revealed that Master Roshi had also destroyed the castle and mountain.\\n Roshi fires his MAX Power Kamehameha'}"
      ]
     },
     "execution_count": 105,
     "metadata": {},
     "output_type": "execute_result"
    }
   ],
   "source": [
    "chapters_data[13]"
   ]
  },
  {
   "cell_type": "code",
   "execution_count": 106,
   "metadata": {},
   "outputs": [],
   "source": [
    "\n",
    "df = pd.DataFrame(chapters_data)"
   ]
  },
  {
   "cell_type": "code",
   "execution_count": 107,
   "metadata": {},
   "outputs": [
    {
     "data": {
      "text/html": [
       "<div>\n",
       "<style scoped>\n",
       "    .dataframe tbody tr th:only-of-type {\n",
       "        vertical-align: middle;\n",
       "    }\n",
       "\n",
       "    .dataframe tbody tr th {\n",
       "        vertical-align: top;\n",
       "    }\n",
       "\n",
       "    .dataframe thead th {\n",
       "        text-align: right;\n",
       "    }\n",
       "</style>\n",
       "<table border=\"1\" class=\"dataframe\">\n",
       "  <thead>\n",
       "    <tr style=\"text-align: right;\">\n",
       "      <th></th>\n",
       "      <th>title</th>\n",
       "      <th>chapter_number</th>\n",
       "      <th>summary</th>\n",
       "    </tr>\n",
       "  </thead>\n",
       "  <tbody>\n",
       "    <tr>\n",
       "      <th>0</th>\n",
       "      <td>Bloomers and the Monkey King</td>\n",
       "      <td>1</td>\n",
       "      <td>The cover features Goku riding with Bulma whil...</td>\n",
       "    </tr>\n",
       "    <tr>\n",
       "      <th>1</th>\n",
       "      <td>No Balls!</td>\n",
       "      <td>2</td>\n",
       "      <td>The cover features Bulma inside of flying vehi...</td>\n",
       "    </tr>\n",
       "    <tr>\n",
       "      <th>2</th>\n",
       "      <td>Sea Monkeys</td>\n",
       "      <td>3</td>\n",
       "      <td>The cover features Goku and Bulma riding a gia...</td>\n",
       "    </tr>\n",
       "    <tr>\n",
       "      <th>3</th>\n",
       "      <td>They Call Him... the Turtle Hermit!</td>\n",
       "      <td>4</td>\n",
       "      <td>The cover shows Bulma standing in front of a c...</td>\n",
       "    </tr>\n",
       "    <tr>\n",
       "      <th>4</th>\n",
       "      <td>Oo! Oo! Oolong!</td>\n",
       "      <td>5</td>\n",
       "      <td>The cover features Bulma wearing a military un...</td>\n",
       "    </tr>\n",
       "    <tr>\n",
       "      <th>5</th>\n",
       "      <td>So Long, Oolong!</td>\n",
       "      <td>6</td>\n",
       "      <td>The cover features Bulma in the seat of a Caps...</td>\n",
       "    </tr>\n",
       "    <tr>\n",
       "      <th>6</th>\n",
       "      <td>Yamcha and Pu'ar</td>\n",
       "      <td>7</td>\n",
       "      <td>The cover features Puar and Yamcha. Yamcha is ...</td>\n",
       "    </tr>\n",
       "    <tr>\n",
       "      <th>7</th>\n",
       "      <td>One, Two, Yamcha-Cha!</td>\n",
       "      <td>8</td>\n",
       "      <td>The cover features Goku, Bulma, Oolong, Yamcha...</td>\n",
       "    </tr>\n",
       "    <tr>\n",
       "      <th>8</th>\n",
       "      <td>Dragon Balls in Danger!!</td>\n",
       "      <td>9</td>\n",
       "      <td>The cover features Goku coming down holding hi...</td>\n",
       "    </tr>\n",
       "    <tr>\n",
       "      <th>9</th>\n",
       "      <td>Onward to Fry-Pan...</td>\n",
       "      <td>10</td>\n",
       "      <td>The cover features Goku riding his Flying Nimb...</td>\n",
       "    </tr>\n",
       "    <tr>\n",
       "      <th>10</th>\n",
       "      <td>...And into the Fire!</td>\n",
       "      <td>11</td>\n",
       "      <td>The cover features Chi-Chi, Goku riding the Fl...</td>\n",
       "    </tr>\n",
       "    <tr>\n",
       "      <th>11</th>\n",
       "      <td>In Search of Kame-Sen'nin</td>\n",
       "      <td>12</td>\n",
       "      <td>The cover (originally published with the follo...</td>\n",
       "    </tr>\n",
       "    <tr>\n",
       "      <th>12</th>\n",
       "      <td>Fanning the Flame</td>\n",
       "      <td>13</td>\n",
       "      <td>This chapter does not feature a cover page, bu...</td>\n",
       "    </tr>\n",
       "    <tr>\n",
       "      <th>13</th>\n",
       "      <td>Kame Kame Kame Kame Kame Chameleon</td>\n",
       "      <td>14</td>\n",
       "      <td>\\n\\nKame Kame Kame Kame Kame Chameleon\\n\\n\\n\\n...</td>\n",
       "    </tr>\n",
       "    <tr>\n",
       "      <th>14</th>\n",
       "      <td>At Sixes and Sevens</td>\n",
       "      <td>15</td>\n",
       "      <td>The cover features Goku holding a three-sectio...</td>\n",
       "    </tr>\n",
       "    <tr>\n",
       "      <th>15</th>\n",
       "      <td>One Goal, One Enemy</td>\n",
       "      <td>16</td>\n",
       "      <td>The cover shows Goku, Oolong, and Bulma drivin...</td>\n",
       "    </tr>\n",
       "    <tr>\n",
       "      <th>16</th>\n",
       "      <td>Carrot Top</td>\n",
       "      <td>17</td>\n",
       "      <td>The cover depicts Bulma, Yamcha, Oolong, and P...</td>\n",
       "    </tr>\n",
       "    <tr>\n",
       "      <th>17</th>\n",
       "      <td>Who's Got My Balls?!</td>\n",
       "      <td>18</td>\n",
       "      <td>Goku, Bulma, and Oolong are again driving thro...</td>\n",
       "    </tr>\n",
       "    <tr>\n",
       "      <th>18</th>\n",
       "      <td>At Last... the Dragon!</td>\n",
       "      <td>19</td>\n",
       "      <td>The cover page of the chapter (originally publ...</td>\n",
       "    </tr>\n",
       "    <tr>\n",
       "      <th>19</th>\n",
       "      <td>Just One Wish!!</td>\n",
       "      <td>20</td>\n",
       "      <td>The cover shows Puar, Oolong, Goku, Bulma and ...</td>\n",
       "    </tr>\n",
       "  </tbody>\n",
       "</table>\n",
       "</div>"
      ],
      "text/plain": [
       "                                  title chapter_number  \\\n",
       "0          Bloomers and the Monkey King              1   \n",
       "1                             No Balls!              2   \n",
       "2                           Sea Monkeys              3   \n",
       "3   They Call Him... the Turtle Hermit!              4   \n",
       "4                       Oo! Oo! Oolong!              5   \n",
       "5                      So Long, Oolong!              6   \n",
       "6                      Yamcha and Pu'ar              7   \n",
       "7                 One, Two, Yamcha-Cha!              8   \n",
       "8              Dragon Balls in Danger!!              9   \n",
       "9                  Onward to Fry-Pan...             10   \n",
       "10                ...And into the Fire!             11   \n",
       "11            In Search of Kame-Sen'nin             12   \n",
       "12                    Fanning the Flame             13   \n",
       "13   Kame Kame Kame Kame Kame Chameleon             14   \n",
       "14                  At Sixes and Sevens             15   \n",
       "15                  One Goal, One Enemy             16   \n",
       "16                           Carrot Top             17   \n",
       "17                 Who's Got My Balls?!             18   \n",
       "18               At Last... the Dragon!             19   \n",
       "19                      Just One Wish!!             20   \n",
       "\n",
       "                                              summary  \n",
       "0   The cover features Goku riding with Bulma whil...  \n",
       "1   The cover features Bulma inside of flying vehi...  \n",
       "2   The cover features Goku and Bulma riding a gia...  \n",
       "3   The cover shows Bulma standing in front of a c...  \n",
       "4   The cover features Bulma wearing a military un...  \n",
       "5   The cover features Bulma in the seat of a Caps...  \n",
       "6   The cover features Puar and Yamcha. Yamcha is ...  \n",
       "7   The cover features Goku, Bulma, Oolong, Yamcha...  \n",
       "8   The cover features Goku coming down holding hi...  \n",
       "9   The cover features Goku riding his Flying Nimb...  \n",
       "10  The cover features Chi-Chi, Goku riding the Fl...  \n",
       "11  The cover (originally published with the follo...  \n",
       "12  This chapter does not feature a cover page, bu...  \n",
       "13  \\n\\nKame Kame Kame Kame Kame Chameleon\\n\\n\\n\\n...  \n",
       "14  The cover features Goku holding a three-sectio...  \n",
       "15  The cover shows Goku, Oolong, and Bulma drivin...  \n",
       "16  The cover depicts Bulma, Yamcha, Oolong, and P...  \n",
       "17  Goku, Bulma, and Oolong are again driving thro...  \n",
       "18  The cover page of the chapter (originally publ...  \n",
       "19  The cover shows Puar, Oolong, Goku, Bulma and ...  "
      ]
     },
     "execution_count": 107,
     "metadata": {},
     "output_type": "execute_result"
    }
   ],
   "source": [
    "df.head(20)"
   ]
  },
  {
   "cell_type": "code",
   "execution_count": 108,
   "metadata": {},
   "outputs": [],
   "source": [
    "\n",
    "story_list = \"https://dragonball.fandom.com/wiki/Category:Anime_series\"\n",
    "r = requests.get(story_list)\n",
    "html = r.text\n",
    "soup = BeautifulSoup(html, \"html.parser\")"
   ]
  },
  {
   "cell_type": "code",
   "execution_count": 109,
   "metadata": {},
   "outputs": [],
   "source": [
    "series_links = []\n",
    "\n",
    "for link in soup.find('div', {\"class\": \"page-content\"}).find_all(\"a\", {\"class\": \"category-page__member-link\"}, href=True):\n",
    "    series_links.append(link['href'])"
   ]
  },
  {
   "cell_type": "code",
   "execution_count": 110,
   "metadata": {},
   "outputs": [],
   "source": [
    "series_data = []\n",
    "\n",
    "for series_link in series_links:\n",
    "\n",
    "    series_info = {}\n",
    "\n",
    "    link = \"https://dragonball.fandom.com/\" + series_link\n",
    "    r = requests.get(link)\n",
    "    html = r.text\n",
    "    soup = BeautifulSoup(html, \"html.parser\")\n",
    "\n",
    "    # title and number of the chapter\n",
    "    series_info['title'] = soup.find('h1').text.strip('\\n')\n",
    "    series_info['chapter_number'] = 'Series'\n",
    "\n",
    "\n",
    "    list_of_inner_text = [paragraph.text for paragraph in soup.find_all('p')]\n",
    "\n",
    "    series_info['summary'] = ' '.join(list_of_inner_text)\n",
    "\n",
    "    series_data.append(series_info)"
   ]
  },
  {
   "cell_type": "code",
   "execution_count": 111,
   "metadata": {},
   "outputs": [
    {
     "data": {
      "text/plain": [
       "{'title': 'Dragon Ball ',\n",
       " 'chapter_number': 'Series',\n",
       " 'summary': '\\n \\n Dragon BallドラゴンボールDoragon Bōru\\n Toei Animation\\n February 26, 1986 — April 19, 1989\\n 153\\n 1-194\\n Dragon Ball (ドラゴンボール, Doragon Bōru) is an adaptation of the first portion of Akira Toriyama\\'s Dragon Ball manga. It is composed of 153 episodes around 20-minutes long and ran on Fuji TV from February 26, 1986 to April 12, 1989. The series average rating was 21.2%, with its maximum being 29.5% (Episode 47) and its minimum being 13.7% (Episode 110). Despite its success, Dragon Ball was overshadowed by its more action-oriented sequel series, Dragon Ball Z. Dragon Ball depicted Goku\\'s childhood, while Dragon Ball Z depicted his adulthood. Both are adapted from the same manga.\\n Title card in the original Japanese version Dragon Ball started off as a manga series called Dragon Boy. The story depicted a young boy named Tanton and his quest to return a princess to her homeland. The series was a loose adaptation of the Chinese legend Journey to the West, depicting monkey king Sun Wukong. Due to the series\\' unpopularity, Toriyama re-wrote Dragon Boy, adapting it as Dragon Ball. All the character\\'s personalities were changed except for Goku. The re-adaptation named Dragon Ball became a hit, and was later made into an anime.\\n Two initial attempts at releasing Dragon Ball to American audiences failed. The first attempt was in 1989 from Harmony Gold USA (the company that previously dubbed Robotech). It featured strange name changes for nearly all the characters, such as changing Goku to \"Zero\" and Korin to \"Whiskers the Wonder Cat\". It was test-marketed in several cities, but was never broadcast to the general public and has since been referred to as \"The Lost Dub\" by fans.\\n The second and more well-known attempt was in 1995 with only the first 13 episodes dubbed and aired in first-run syndication. This release was a joint-production between Funimation, Seagull Entertainment, and BLT Productions, with a dubbing voice cast similar to Funimation\\'s initial dub of Dragon Ball Z. These original 13 dubbed episodes were later released to home video by KidMark as \"Dragon Ball: The Saga of Goku.\"\\n The earlier 1995 dub\\'s logo, which lasted 13 episodes and also appears on some older home video releases After Dragon Ball Z became immensely popular on Cartoon Network\\'s Toonami block, Dragon Ball was re-dubbed\\xa0in English by Funimation\\'s in-house ADR studio for redistribution in the U.S. The complete original series aired on Cartoon Network\\'s Toonami from August 20, 2001 to December 1, 2003. Unlike the theme songs for Dragon Ball Z and Dragon Ball GT, Funimation made English versions of the original Japanese opening (OP) and ending (ED) themes for these episodes and left in the original background music (which they would later also do with their dubs of Dragon Ball Z Kai and Dragon Ball Super). Some insert (IN) songs were taken out or have talking over them.\\n The U.S. version of Dragon Ball that was aired on Cartoon Network (before that, it was aired in syndication and on NBC in select cities) had many edits done to it. Most of the edits were digital cosmetic changes, which were done to remove nudity and blood, and dialogue edits. Sometimes, some scenes were deleted altogether, either to save time or cut out strong violence.\\n For example, when Goku dives into the water naked to kick a fish he catches for dinner, a digital water splash was added on his groin; on other occasions when he is naked, he has some digital underwear added. Also, references to alcohol and drugs were removed, for example, when Jackie Chun uses Drunken Fist in the 21st World Martial Arts Tournament, Funimation called it the \"Mad Cow Attack\" (coincidentally, there was a real life Mad Cow epidemic shortly after the episode aired). Also, the famous \"No Balls!\" scene was deleted from episode 2, and when Bulma puts panties on the fishing hook to get Oolong (in fish form), they digitally painted away the panties and replaced it with some money. Also, a number of creative changes were made to the dialogue. For example, when Puar says why Oolong was expelled from school, instead of saying that he stole the teacher\\'s panties, they say that he stole the teacher\\'s \"papers.\"\\n A lot of older fans hated these changes, because they felt it was butchering the original show\\'s humor and dumbing it down. These edits, however, were necessary in order to have the show aired on TV. The DVDs do not contain these edits.\\n Aside from censorship-related reasons, FUNimation also sometimes alters dialogue in an attempt to make a scene more humorous in nature. A notable example of this was with General Blue during his fight with Krillin where his banter with the latter was altered to have him make references to Girl Scouts, the Mona Lisa, and also insulting Krillin with \"diaper man\".\\n Original author of the manga, Akira Toriyama, held a great deal of respect for the Dragon Ball and Dragon Ball Z animes and those that developed them. Toriyama also admired the fact that the anime had\\xa0original stories created by the animation team, and stated that he considered the Dragon Ball anime to be equal in importance to the Dragon Ball manga.[1]\\n Main article: Dragon Ball: Ssawora Son Goku, Igyeora Son Goku\\n Main article: Dragon Ball: The Magic Begins\\nA live-action version of the popular Japanese animated series. An evil king has been stealing the mystical \"Dragon Pearls\" in an attempt to possess them all. When all but one of the pearls has been stolen, the former guardians of the magic jewels decide to band together and take action. Led by a pig-headed wizard and a half-turtle martial arts master, the team takes on the king\\'s army in a desperate bid to stop him from gaining control of the pearls.\\n Made in Taiwan and released in 1991, this feature has actually been released in the US as Dragon Ball: The Magic Begins (originally titled Xin Qi long zhu Shen long de chuan shuo, or New Dragon Ball: The Legend of Shenlong). While this movie does not follow Toriyama\\'s concept exactly, it is a lot closer to it than it is to any traditional Chinese legends.\\n Main article: Dragonball Evolution\\nA live-action version of the series, made in the United States. The movie retains the basic notion of Dragon Ball, but there are several major changes in the story and characters. The movie depicts Goku\\'s training and his confrontation with Lord Piccolo.\\n Main article: Funimation Remastered Box Sets\\nIn 2009, after the release of the Remastered Dragon Ball Z and Dragon Ball GT Season DVD Boxsets, Funimation announced that they would begin releasing Dragon Ball in Remastered Format beginning September later that year. They are presented in their Original Aspect Ratio 4:3 and are presented in a 5 Disc Boxset. Unlike the Dragon Ball Z and Dragon Ball GT Sets, the Dragon Ball Sets only include a 5.1 English Voice Track with Original Japanese Background Audio and Original Japanese Mono as Dragon Ball had never had an American Soundtrack.\\n On December 28, 2010, Funimation released Dragon Ball: Curse of the Blood Rubies to DVD and Blu-ray uncut and re-dubbed with their Dragon Ball Z Kai voice cast to Region 1 DVD. A complete box set containing all four Dragon Ball Movies was released in February 2011.[2] All movies retain their original Funimation dub with the exception of Curse of the Blood Rubies.\\n Season Release Date Saga(s) Dragon Ball: Season 1\\n Sep 15, 2009 (Episodes 1 - 31)\\n Emperor Pilaf, Tournament and early Red Ribbon Army Sagas\\n Dragon Ball: Season 2\\n Nov 10, 2009 (Episodes 32 - 61)\\n Red Ribbon Army, General Blue and early Commander Red Sagas\\n Dragon Ball: Season 3\\n Feb 2, 2010 (Episodes 62 - 92)\\n Commander Red, Fortuneteller Baba and early Tien Shinhan Sagas\\n Dragon Ball: Season 4\\n May 4, 2010 (Episodes 93 - 122)\\n Tien Shinhan and King Piccolo Sagas\\n Movie Release Date December 28, 2010\\n Dragon Ball Movie 4 Pack:\\n Curse of the Blood Rubies\\n Sleeping Princess in Devil\\'s Castle\\n Mystical Adventure\\n The Path To Power\\n See also: Dragon Ball (CD)\\nThe 1995 BLT dub featured an original theme song and replacement compositions written by Peter Berring.\\n The Canadian and UK broadcasts featured different theme songs.\\n \\n'}"
      ]
     },
     "execution_count": 111,
     "metadata": {},
     "output_type": "execute_result"
    }
   ],
   "source": [
    "series_data[1]"
   ]
  },
  {
   "cell_type": "code",
   "execution_count": 112,
   "metadata": {},
   "outputs": [
    {
     "name": "stderr",
     "output_type": "stream",
     "text": [
      "/var/folders/wt/vy30bbwn2ws53ns63j_3wf8c0000gq/T/ipykernel_3426/3721105986.py:1: FutureWarning: The frame.append method is deprecated and will be removed from pandas in a future version. Use pandas.concat instead.\n",
      "  df = df.append(series_data).reset_index(drop=True)\n"
     ]
    }
   ],
   "source": [
    "df = df.append(series_data).reset_index(drop=True)"
   ]
  },
  {
   "cell_type": "code",
   "execution_count": 113,
   "metadata": {},
   "outputs": [],
   "source": [
    "df.to_csv('dragonball_chapters.csv', index=False)"
   ]
  },
  {
   "cell_type": "code",
   "execution_count": 114,
   "metadata": {},
   "outputs": [
    {
     "data": {
      "text/html": [
       "<div>\n",
       "<style scoped>\n",
       "    .dataframe tbody tr th:only-of-type {\n",
       "        vertical-align: middle;\n",
       "    }\n",
       "\n",
       "    .dataframe tbody tr th {\n",
       "        vertical-align: top;\n",
       "    }\n",
       "\n",
       "    .dataframe thead th {\n",
       "        text-align: right;\n",
       "    }\n",
       "</style>\n",
       "<table border=\"1\" class=\"dataframe\">\n",
       "  <thead>\n",
       "    <tr style=\"text-align: right;\">\n",
       "      <th></th>\n",
       "      <th>title</th>\n",
       "      <th>chapter_number</th>\n",
       "      <th>summary</th>\n",
       "    </tr>\n",
       "  </thead>\n",
       "  <tbody>\n",
       "    <tr>\n",
       "      <th>0</th>\n",
       "      <td>Bloomers and the Monkey King</td>\n",
       "      <td>1</td>\n",
       "      <td>The cover features Goku riding with Bulma whil...</td>\n",
       "    </tr>\n",
       "    <tr>\n",
       "      <th>1</th>\n",
       "      <td>No Balls!</td>\n",
       "      <td>2</td>\n",
       "      <td>The cover features Bulma inside of flying vehi...</td>\n",
       "    </tr>\n",
       "    <tr>\n",
       "      <th>2</th>\n",
       "      <td>Sea Monkeys</td>\n",
       "      <td>3</td>\n",
       "      <td>The cover features Goku and Bulma riding a gia...</td>\n",
       "    </tr>\n",
       "    <tr>\n",
       "      <th>3</th>\n",
       "      <td>They Call Him... the Turtle Hermit!</td>\n",
       "      <td>4</td>\n",
       "      <td>The cover shows Bulma standing in front of a c...</td>\n",
       "    </tr>\n",
       "    <tr>\n",
       "      <th>4</th>\n",
       "      <td>Oo! Oo! Oolong!</td>\n",
       "      <td>5</td>\n",
       "      <td>The cover features Bulma wearing a military un...</td>\n",
       "    </tr>\n",
       "    <tr>\n",
       "      <th>...</th>\n",
       "      <td>...</td>\n",
       "      <td>...</td>\n",
       "      <td>...</td>\n",
       "    </tr>\n",
       "    <tr>\n",
       "      <th>522</th>\n",
       "      <td>Dragon Ball GT</td>\n",
       "      <td>Series</td>\n",
       "      <td>\\n \\n Dragon Ball GTドラゴンボールＧＴDoragon Bōru Jī T...</td>\n",
       "    </tr>\n",
       "    <tr>\n",
       "      <th>523</th>\n",
       "      <td>Dragon Ball Super</td>\n",
       "      <td>Series</td>\n",
       "      <td>\\n \\n Dragon Ball Superドラゴンボール超Doragon Bōru Sū...</td>\n",
       "    </tr>\n",
       "    <tr>\n",
       "      <th>524</th>\n",
       "      <td>Dragon Ball Z</td>\n",
       "      <td>Series</td>\n",
       "      <td>\\n \\n Dragon Ball ZドラゴンボールＺDoragon Bōru Zetto\\...</td>\n",
       "    </tr>\n",
       "    <tr>\n",
       "      <th>525</th>\n",
       "      <td>Dragon Ball Z Kai</td>\n",
       "      <td>Series</td>\n",
       "      <td>\\n \\n Dragon Ball Z Kaiドラゴンボール改Doragon Bōru Ka...</td>\n",
       "    </tr>\n",
       "    <tr>\n",
       "      <th>526</th>\n",
       "      <td>Super Dragon Ball Heroes</td>\n",
       "      <td>Series</td>\n",
       "      <td>\\n \\n Super Dragon Ball Heroesスーパードラゴンボール ヒーロー...</td>\n",
       "    </tr>\n",
       "  </tbody>\n",
       "</table>\n",
       "<p>527 rows × 3 columns</p>\n",
       "</div>"
      ],
      "text/plain": [
       "                                   title chapter_number  \\\n",
       "0           Bloomers and the Monkey King              1   \n",
       "1                              No Balls!              2   \n",
       "2                            Sea Monkeys              3   \n",
       "3    They Call Him... the Turtle Hermit!              4   \n",
       "4                        Oo! Oo! Oolong!              5   \n",
       "..                                   ...            ...   \n",
       "522                      Dragon Ball GT          Series   \n",
       "523                   Dragon Ball Super          Series   \n",
       "524                       Dragon Ball Z          Series   \n",
       "525                   Dragon Ball Z Kai          Series   \n",
       "526            Super Dragon Ball Heroes          Series   \n",
       "\n",
       "                                               summary  \n",
       "0    The cover features Goku riding with Bulma whil...  \n",
       "1    The cover features Bulma inside of flying vehi...  \n",
       "2    The cover features Goku and Bulma riding a gia...  \n",
       "3    The cover shows Bulma standing in front of a c...  \n",
       "4    The cover features Bulma wearing a military un...  \n",
       "..                                                 ...  \n",
       "522  \\n \\n Dragon Ball GTドラゴンボールＧＴDoragon Bōru Jī T...  \n",
       "523  \\n \\n Dragon Ball Superドラゴンボール超Doragon Bōru Sū...  \n",
       "524  \\n \\n Dragon Ball ZドラゴンボールＺDoragon Bōru Zetto\\...  \n",
       "525  \\n \\n Dragon Ball Z Kaiドラゴンボール改Doragon Bōru Ka...  \n",
       "526  \\n \\n Super Dragon Ball Heroesスーパードラゴンボール ヒーロー...  \n",
       "\n",
       "[527 rows x 3 columns]"
      ]
     },
     "execution_count": 114,
     "metadata": {},
     "output_type": "execute_result"
    }
   ],
   "source": [
    "pd.read_csv('dragonball_chapters.csv')"
   ]
  },
  {
   "cell_type": "code",
   "execution_count": null,
   "metadata": {},
   "outputs": [],
   "source": []
  }
 ],
 "metadata": {
  "interpreter": {
   "hash": "a663876536c8774fb4767a59f934fc0c8ea00f69adaa5a94e23ea63642e9bf67"
  },
  "kernelspec": {
   "display_name": "Python 3.10.3 ('anime_recommender-1pmzqaR3')",
   "language": "python",
   "name": "python3"
  },
  "language_info": {
   "codemirror_mode": {
    "name": "ipython",
    "version": 3
   },
   "file_extension": ".py",
   "mimetype": "text/x-python",
   "name": "python",
   "nbconvert_exporter": "python",
   "pygments_lexer": "ipython3",
   "version": "3.10.3"
  },
  "orig_nbformat": 4
 },
 "nbformat": 4,
 "nbformat_minor": 2
}
